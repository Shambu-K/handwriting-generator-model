{
 "cells": [
  {
   "cell_type": "code",
   "execution_count": 8,
   "metadata": {},
   "outputs": [],
   "source": [
    "import os\n",
    "import pytorch_fid.fid_score as fid\n",
    "import tqdm\n"
   ]
  },
  {
   "cell_type": "markdown",
   "metadata": {},
   "source": [
    "### GANwriting"
   ]
  },
  {
   "cell_type": "code",
   "execution_count": 9,
   "metadata": {},
   "outputs": [
    {
     "name": "stderr",
     "output_type": "stream",
     "text": [
      "100%|██████████| 6/6 [00:00<00:00, 16.53it/s]\n",
      "100%|██████████| 6/6 [00:00<00:00, 18.20it/s]\n"
     ]
    },
    {
     "name": "stdout",
     "output_type": "stream",
     "text": [
      "FID Score : 94.7707080249707\n"
     ]
    }
   ],
   "source": [
    "gan_input_path = './Ganwriting/Original'\n",
    "gan_output_path = './Ganwriting/Output'\n",
    "fid_score = fid.calculate_fid_given_paths([gan_input_path, gan_output_path], device='cuda', dims=2048, batch_size=1, num_workers=8)\n",
    "print ('FID Score : ' + str(fid_score))"
   ]
  },
  {
   "cell_type": "markdown",
   "metadata": {},
   "source": [
    "### Handwriting Transformers"
   ]
  },
  {
   "cell_type": "code",
   "execution_count": 10,
   "metadata": {},
   "outputs": [
    {
     "name": "stderr",
     "output_type": "stream",
     "text": [
      "100%|██████████| 6/6 [00:00<00:00, 20.86it/s]\n",
      "100%|██████████| 6/6 [00:00<00:00, 18.54it/s]\n"
     ]
    },
    {
     "name": "stdout",
     "output_type": "stream",
     "text": [
      "FID Score : 70.6698295255992\n"
     ]
    }
   ],
   "source": [
    "hwt_input_path = './Handwriting Transformers/Original'\n",
    "hwt_output_path = './Handwriting Transformers/Output'\n",
    "fid_score = fid.calculate_fid_given_paths([hwt_input_path, hwt_output_path], device='cuda', dims=2048, batch_size=1, num_workers=8)\n",
    "print ('FID Score : ' + str(fid_score))\n"
   ]
  }
 ],
 "metadata": {
  "kernelspec": {
   "display_name": "base",
   "language": "python",
   "name": "python3"
  },
  "language_info": {
   "codemirror_mode": {
    "name": "ipython",
    "version": 3
   },
   "file_extension": ".py",
   "mimetype": "text/x-python",
   "name": "python",
   "nbconvert_exporter": "python",
   "pygments_lexer": "ipython3",
   "version": "3.9.12"
  },
  "orig_nbformat": 4
 },
 "nbformat": 4,
 "nbformat_minor": 2
}
