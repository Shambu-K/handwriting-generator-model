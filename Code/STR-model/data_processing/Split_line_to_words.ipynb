{
  "cells": [
    {
      "cell_type": "code",
      "execution_count": 2,
      "metadata": {
        "colab": {
          "base_uri": "https://localhost:8080/"
        },
        "id": "xlKIjtmIgwlz",
        "outputId": "41fe25e7-c34b-4437-fea9-ccfb8afe2f48"
      },
      "outputs": [],
      "source": [
        "# For Google Colab\n",
        "import xml.etree.ElementTree as ET\n",
        "import numpy as np\n",
        "import matplotlib.pyplot as plt\n",
        "import cv2\n",
        "import copy\n",
        "from PIL import Image\n",
        "from PIL import Image, ImageDraw"
      ]
    },
    {
      "cell_type": "code",
      "execution_count": 3,
      "metadata": {
        "id": "3FZqrRGgCpTZ"
      },
      "outputs": [],
      "source": [
        "# crop image from the dataset (to remove padding)\n",
        "def crop_image(image_path):\n",
        "    # Open the image file\n",
        "    img = Image.open(image_path)\n",
        "    # Get the dimensions of the image\n",
        "    width, height = img.size\n",
        "    # if height of image < 270, then return the image\n",
        "    if height < 270:\n",
        "        return img\n",
        "    # Define the points for cropping\n",
        "    left = 100\n",
        "    upper = 100\n",
        "    right = width - 100\n",
        "    lower = height - 100\n",
        "    # Crop the image\n",
        "    img_cropped = img.crop((left, upper, right, lower))\n",
        "    # Return the cropped image\n",
        "    return img_cropped"
      ]
    },
    {
      "cell_type": "code",
      "execution_count": 4,
      "metadata": {
        "id": "48t_iph8y1yZ"
      },
      "outputs": [],
      "source": [
        "# crop image for splitting into words\n",
        "def crop_x_image(img, x_left, x_right):\n",
        "  width, height = img.size\n",
        "  img_crop = img.crop((x_left, 0, x_right, height))\n",
        "  return img_crop"
      ]
    },
    {
      "cell_type": "code",
      "execution_count": 5,
      "metadata": {
        "id": "2SNRNT-xsdQb"
      },
      "outputs": [],
      "source": [
        "# Boundary coordinates\n",
        "def get_boundary_coordinates(xml_path):\n",
        "    root = xml_path.getroot()\n",
        "    whiteboard_description = root.find('.//WhiteboardDescription')\n",
        "    # Extract the 'DiagonallyOppositeCoords', 'VerticallyOppositeCoords', and 'HorizontallyOppositeCoords'\n",
        "    x2 = float(whiteboard_description.find('DiagonallyOppositeCoords').attrib['x']) + 300\n",
        "    y2 = float(whiteboard_description.find('DiagonallyOppositeCoords').attrib['y']) \n",
        "    x1 = float(whiteboard_description.find('VerticallyOppositeCoords').attrib['x'])\n",
        "    y1 = float(whiteboard_description.find('HorizontallyOppositeCoords').attrib['y'])\n",
        "\n",
        "    boundary_coords = np.array([[x1, y1], [x2, y1], [x2, y2], [x1, y2]])\n",
        "\n",
        "    return boundary_coords"
      ]
    },
    {
      "cell_type": "code",
      "execution_count": 6,
      "metadata": {
        "id": "TDyYv6z6sgIg"
      },
      "outputs": [],
      "source": [
        "# function to get stroke data and points data\n",
        "def get_stroke_data(xml_path):\n",
        "    root = xml_path.getroot()\n",
        "    # Initialize lists to store stroke and point attributes\n",
        "    stroke_attribs = []\n",
        "    point_attribs = []\n",
        "\n",
        "    # Iterate over 'Stroke' elements\n",
        "    for stroke in root.iter('Stroke'):\n",
        "        # Append stroke attributes to list\n",
        "        stroke_attribs.append([float(stroke.attrib['start_time']), float(stroke.attrib['end_time'])]) # Colour, start, end\n",
        "\n",
        "        points = []\n",
        "\n",
        "        # Iterate over 'Point' elements within each 'Stroke'\n",
        "        for point in stroke.iter('Point'):\n",
        "            # Append point attributes to list\n",
        "            points.append([float(point.attrib['x']), float(point.attrib['y']), float(point.attrib['time'])])\n",
        "\n",
        "        point_attribs.append(points)\n",
        "\n",
        "    return stroke_attribs, point_attribs"
      ]
    },
    {
      "cell_type": "code",
      "execution_count": 7,
      "metadata": {
        "id": "g50d8m4zskSy"
      },
      "outputs": [],
      "source": [
        "# funtion for mapping image to stroke coordinates\n",
        "def map_image_to_stroke(image_size, boundary_coords, point_attribs):\n",
        "    # Calculate scale factors and translation distances\n",
        "    scale_factors = image_size / (boundary_coords.max(axis=0) - boundary_coords.min(axis=0))\n",
        "    translation_distances = boundary_coords.min(axis=0)\n",
        "\n",
        "    # Scale and translate point coordinates\n",
        "    for points in point_attribs:\n",
        "        for point in points:\n",
        "            point[:2] = (point[:2] - translation_distances) * scale_factors\n",
        "\n",
        "    return point_attribs"
      ]
    },
    {
      "cell_type": "code",
      "execution_count": 8,
      "metadata": {
        "id": "aRk2z3t7snvz"
      },
      "outputs": [],
      "source": [
        "# Plot the coordinates and saving the image\n",
        "def plot_coordinates(point_attribs, image_size):\n",
        "    output_file = 'output.png'\n",
        "    # Create a white image of the desired size\n",
        "    image_size = tuple(image_size.astype(int))\n",
        "    img = Image.new('L', image_size, 'white')\n",
        "\n",
        "    # Get the drawing context\n",
        "    draw = ImageDraw.Draw(img)\n",
        "\n",
        "    # Draw thicker points at the coordinates in point_attribs and join them with lines\n",
        "    for points in point_attribs:\n",
        "        prev_point = None\n",
        "        for point in points:\n",
        "            x, y = int(point[0]), int(point[1])\n",
        "            radius = 2  # Adjust as needed\n",
        "            draw.ellipse((x-radius, y-radius, x+radius, y+radius), fill=12)  # Darken and thicken the points\n",
        "\n",
        "            # If there is a previous point, draw a line from the previous point to the current point\n",
        "            if prev_point is not None:\n",
        "                draw.line([prev_point, (x, y)], fill=15, width=radius*2)\n",
        "\n",
        "            # Update previous point\n",
        "            prev_point = (x, y)\n",
        "\n",
        "    dpi = 60\n",
        "    fig = plt.figure(figsize=(image_size[0]/dpi, image_size[1]/dpi), dpi=dpi)\n",
        "    ax = fig.add_axes([0, 0, 1, 1])\n",
        "    ax.axis('off')  # Don't show axes\n",
        "\n",
        "    # Display the image\n",
        "    ax.imshow(img, cmap='gray')\n",
        "\n",
        "    # Save the figure as an image\n",
        "    plt.savefig(output_file, dpi=dpi, bbox_inches='tight', pad_inches=0)\n",
        "    plt.close() \n",
        "\n",
        "    # return path of the image\n",
        "    return output_file"
      ]
    },
    {
      "cell_type": "code",
      "execution_count": 9,
      "metadata": {},
      "outputs": [],
      "source": [
        "# extract information from xml file\n",
        "def get_info_xml(xml_path, image_size):\n",
        "    boundary_coords = get_boundary_coordinates(xml_path)\n",
        "    stroke_attribs, point_attribs = get_stroke_data(xml_path)\n",
        "    point_attribs = map_image_to_stroke(image_size, boundary_coords, point_attribs)\n",
        "\n",
        "    return boundary_coords, stroke_attribs, point_attribs"
      ]
    },
    {
      "cell_type": "markdown",
      "metadata": {},
      "source": [
        "# Splitting the words"
      ]
    },
    {
      "cell_type": "code",
      "execution_count": 10,
      "metadata": {
        "id": "fY-vEDf7sAse"
      },
      "outputs": [],
      "source": [
        "# threshold decides whether the current stroke belongs to the previous word or not\n",
        "def threshold(a, b):\n",
        "  # a is distance difference\n",
        "  # b is time difference (We havent used time difference in our code)\n",
        "  if a < 60:\n",
        "    return True\n",
        "  else:\n",
        "    return False"
      ]
    },
    {
      "cell_type": "code",
      "execution_count": 11,
      "metadata": {},
      "outputs": [],
      "source": [
        "def get_words(img_cropped, stroke_attribs, point_attribs, target_image_path, image_size, num):\n",
        "    word_strokes = [] # storing words -> strokes -> points\n",
        "    word_stroke_img = [] # storing image file paths\n",
        "    prevt = 0 # storing end time of last stroke of prev word (for time-thresholding)\n",
        "    prev_xsep = 0 # storing rightmost pixel of prev word (for x-thresholding)\n",
        "    img_new = copy.deepcopy(img_cropped)\n",
        "    for i in range(len(stroke_attribs)):\n",
        "        pts = copy.deepcopy(point_attribs[i]) # extract next stroke\n",
        "\n",
        "        if i == 0:\n",
        "            word_strokes.append([pts]) # create first word and assign this stroke to the word\n",
        "            continue\n",
        "\n",
        "        x_pts = [x[0] for x in pts] # extract x-coords for points in current stroke\n",
        "        x_pts = np.array(x_pts)\n",
        "\n",
        "        new_xstart = np.min(x_pts) # store leftmost pixel of current stroke\n",
        "\n",
        "        pts_prev = copy.deepcopy(word_strokes[-1][-1]) # extract previous stroke\n",
        "        x_pts = [x[0] for x in pts_prev] # extract x-coords for points in prev stroke\n",
        "        x_pts = np.array(x_pts)\n",
        "\n",
        "        old_xend = np.max(x_pts) # store rightmost pixel of current stroke\n",
        "\n",
        "        if threshold(new_xstart - old_xend, stroke_attribs[i][0] - prevt) == True:\n",
        "            # if stroke identified as part of current word\n",
        "            word_strokes[-1].append(pts) # append stroke to last word\n",
        "        else:\n",
        "            # if stroke identified as not part of current word, i.e. next word\n",
        "            word_strokes.append([pts]) # create a new word and assign this stroke to the word\n",
        "            new_xsep = 0.8*(new_xstart) + 0.2*(old_xend) # midpoint b/w prev stroke and next stroke (for image separation)\n",
        "\n",
        "            # save image for completed word as prev_xsep : new_xsep\n",
        "            img_new = crop_x_image(img_cropped, prev_xsep, new_xsep)\n",
        "            img_new.save(target_image_path + f'image_{num}.png')\n",
        "\n",
        "            # append path to saved image into word_stroke_img\n",
        "            word_stroke_img.append(f'image_{num}.png')\n",
        "\n",
        "            prev_xsep = new_xsep # update end-xcoord for completed word (start xcoord for new word)\n",
        "            num += 1\n",
        "\n",
        "        prevt = stroke_attribs[i][1] # update end-time for completed word\n",
        "        # save image for last completed word as prev_xsep : new_xsep\n",
        "        # append path to saved image into word_stroke_img\n",
        "    img_new_last = crop_x_image(img_cropped, prev_xsep, image_size[0])\n",
        "    img_new_last.save(target_image_path + f'image_{num}.png')\n",
        "    word_stroke_img.append(f'image_{num}.png')\n",
        "    num+=1\n",
        "    return word_strokes, word_stroke_img, num"
      ]
    },
    {
      "cell_type": "code",
      "execution_count": 12,
      "metadata": {},
      "outputs": [],
      "source": [
        "# saving strokes as numpy arrays\n",
        "def save_strokes(word_strokes, target_xml_path, num):\n",
        "    for word in word_strokes:\n",
        "        word_np = []\n",
        "        for stroke in word:\n",
        "            i = 0\n",
        "            for point in stroke:\n",
        "                p = [point[0], point[1], point[2], 0, 0]\n",
        "                if i == 0:\n",
        "                    p[3] = 1\n",
        "                elif i == len(stroke) - 1:\n",
        "                    p[4] = 1\n",
        "                word_np.append(p)\n",
        "                i += 1\n",
        "        np.save(target_xml_path + f'stroke_{num}.npy', word_np)\n",
        "        num += 1\n",
        "    return num"
      ]
    },
    {
      "cell_type": "code",
      "execution_count": 13,
      "metadata": {},
      "outputs": [],
      "source": [
        "# function to split words \n",
        "def split_words(image_path, xml_path, target_image_path, target_xml_path, num):\n",
        "    num1 = num\n",
        "    num2 = num\n",
        "    xml_path = ET.parse(xml_path)\n",
        "    img_cropped = crop_image(image_path)\n",
        "    # Convert the image to grayscale\n",
        "    img_cropped = img_cropped.convert('L')\n",
        "    image_size = np.asarray(img_cropped.size)\n",
        "    boundary_coords, stroke_attribs, point_attribs = get_info_xml(xml_path, image_size)\n",
        "    # original image and the stroke coordinates are slightly different despite the map, therefore we use the image generated by point_attribs\n",
        "    # saving the image generated by point_attribs\n",
        "    output_image_path = plot_coordinates(point_attribs, image_size)\n",
        "    # opening the image generated by point_attribs\n",
        "    img_cropped = Image.open(output_image_path)\n",
        "    word_strokes, word_stroke_img, num1 = get_words(img_cropped, stroke_attribs, point_attribs, target_image_path, image_size, num1)\n",
        "    num2 = save_strokes(word_strokes, target_xml_path, num2)\n",
        "    return num1, num2 "
      ]
    },
    {
      "cell_type": "code",
      "execution_count": 14,
      "metadata": {},
      "outputs": [],
      "source": [
        "# change directory to required directory\n",
        "import os\n",
        "os.chdir(\"C:/\") # change directory to required directory"
      ]
    },
    {
      "cell_type": "code",
      "execution_count": 15,
      "metadata": {},
      "outputs": [
        {
          "name": "stdout",
          "output_type": "stream",
          "text": [
            "Directory to walk: C:/Users/Anita Dash/Music/IAM-Online/lineImages-all\n",
            "Directory is not empty\n",
            "done!\n"
          ]
        }
      ],
      "source": [
        "# Splitting words from line images, saving images and strokes to train and test folders\n",
        "import os\n",
        "import xml.etree.ElementTree as ET\n",
        "num = 1\n",
        "line_images_dir = '../' # directory containing line images\n",
        "line_strokes_dir = '../' # directory containing line strokes\n",
        "print('Directory to walk:', line_images_dir)\n",
        "if not os.listdir(line_images_dir):\n",
        "    print(\"Directory is empty\")\n",
        "else:    \n",
        "    print(\"Directory is not empty\")\n",
        "for root, dirs, files in os.walk(line_images_dir):\n",
        "    for file in files:\n",
        "        if file.endswith(('.tif')):\n",
        "            relative_path = os.path.relpath(root, line_images_dir)\n",
        "            xml_file = os.path.join(line_strokes_dir, relative_path, file).replace('.tif', '.xml')\n",
        "            # if xml file exists, then split the words\n",
        "            if os.path.exists(xml_file):\n",
        "                image_path = os.path.join(root, file)\n",
        "                xml_path = xml_file\n",
        "                target_image_path = f'IAM-Online/Dataset/Train/Images/' # directory to save images\n",
        "                target_xml_path = f'IAM-Online/Dataset/Train/Strokes/' # directory to save strokes\n",
        "                try:\n",
        "                    num, _ = split_words(image_path, xml_path, target_image_path, target_xml_path, num)\n",
        "                except Exception as e:\n",
        "                    print(f\"An error occurred with file {image_path}: {e}\")\n",
        "                    \n",
        "            # if xml file does not exist, then save the image to test folder\n",
        "            else:\n",
        "                # save image to test folder\n",
        "                image_path = os.path.join(root, file)\n",
        "                target_image_path = f'IAM-Online/Dataset/Test/Images/'\n",
        "                # save file to test folder\n",
        "                image = Image.open(image_path)\n",
        "                image.save(target_image_path + file)\n",
        "\n",
        "print('done!')"
      ]
    },
    {
      "cell_type": "code",
      "execution_count": 76,
      "metadata": {},
      "outputs": [
        {
          "name": "stdout",
          "output_type": "stream",
          "text": [
            "37377\n"
          ]
        },
        {
          "data": {
            "image/png": "[encoded data removed]",
            "text/plain": [
              "<Figure size 2000x1000 with 2 Axes>"
            ]
          },
          "metadata": {},
          "output_type": "display_data"
        }
      ],
      "source": [
        "# checking if the image is saved correctly\n",
        "\n",
        "import random\n",
        "\n",
        "# randomly select an image from the dataset\n",
        "num = random.randint(1, 50871)\n",
        "print(num)\n",
        "image_path = f'IAM-Online/Dataset/Train/Images/image_{num}.png' # path to image\n",
        "npy_path = f'IAM-Online/Dataset/Train/Strokes/stroke_{num}.npy' # path to strokes\n",
        "\n",
        "# load the image and strokes\n",
        "points = np.load(npy_path)\n",
        "image = Image.open(image_path)\n",
        "image_size = image.size\n",
        "image_size = tuple([3000, 300])\n",
        "\n",
        "# plot the points\n",
        "img = Image.new('L', image_size, 'white')\n",
        "draw = ImageDraw.Draw(img)\n",
        "prev_point = None\n",
        "for point in points:\n",
        "    x, y = int(point[0]), int(point[1])\n",
        "    radius = 2  # Adjust as needed\n",
        "    draw.ellipse((x-radius, y-radius, x+radius, y+radius), fill=12)  # Darken and thicken the point\n",
        "\n",
        "plt.figure(figsize=(20, 10))\n",
        "plt.subplot(1, 2, 1)\n",
        "plt.imshow(img, cmap='gray')\n",
        "plt.subplot(1, 2, 2)\n",
        "plt.imshow(image, cmap='gray')\n",
        "plt.tight_layout()\n",
        "plt.show()"
      ]
    }
  ],
  "metadata": {
    "colab": {
      "provenance": []
    },
    "kernelspec": {
      "display_name": "Python 3",
      "language": "python",
      "name": "python3"
    },
    "language_info": {
      "codemirror_mode": {
        "name": "ipython",
        "version": 3
      },
      "file_extension": ".py",
      "mimetype": "text/x-python",
      "name": "python",
      "nbconvert_exporter": "python",
      "pygments_lexer": "ipython3",
      "version": "3.9.5"
    }
  },
  "nbformat": 4,
  "nbformat_minor": 0
}
