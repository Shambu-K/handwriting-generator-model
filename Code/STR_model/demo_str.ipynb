{
 "cells": [
  {
   "cell_type": "code",
   "execution_count": 1,
   "metadata": {},
   "outputs": [],
   "source": [
    "import numpy as np\n",
    "from PIL import Image\n",
    "import os\n",
    "from model import *\n",
    "import torch\n",
    "import matplotlib.pyplot as plt\n",
    "from torchvision import transforms\n",
    "from PIL import Image, ImageDraw\n",
    "from matplotlib.animation import FuncAnimation\n",
    "from util.stroke_plotting import animate_word, plot_word_strokes"
   ]
  },
  {
   "cell_type": "code",
   "execution_count": 2,
   "metadata": {},
   "outputs": [
    {
     "name": "stdout",
     "output_type": "stream",
     "text": [
      "10\n"
     ]
    }
   ],
   "source": [
    "text_prompt = 'Magic madness heaven sin Saw you there and I thought'  # lets keep a text prompt in our repo lamao\n",
    "# number of words = number of words in text_prompt\n",
    "num_words = len(text_prompt.split())\n",
    "print(num_words)\n",
    "\n",
    "output_folder_path = '../../DataSet/internet/'\n",
    "page_width = 300  # can be changed\n",
    "img_height = 60 "
   ]
  },
  {
   "cell_type": "code",
   "execution_count": 3,
   "metadata": {},
   "outputs": [],
   "source": [
    "# resize image to a fixed height\n",
    "def resize_image(image, required_height):\n",
    "    image_size = np.array(image).shape\n",
    "    height, width = image_size[0], image_size[1]\n",
    "    scale_factor = required_height / height\n",
    "    width = int(width * scale_factor)\n",
    "    resized_image = image.resize((width, required_height))\n",
    "    return resized_image"
   ]
  },
  {
   "cell_type": "code",
   "execution_count": 4,
   "metadata": {},
   "outputs": [],
   "source": [
    "def create_list(output_folder_path):\n",
    "    width_list = []\n",
    "    image_list = []\n",
    "    for files in os.listdir(output_folder_path):\n",
    "        if files.endswith(\".png\"):\n",
    "            image_path = output_folder_path + files\n",
    "            image = Image.open(image_path)\n",
    "            image = image.convert('L')\n",
    "            image_size = np.array(image).shape\n",
    "            if image_size[0]!=img_height:\n",
    "                image = resize_image(image, img_height)\n",
    "            image = np.array(image)\n",
    "            image_size = np.array(image).shape\n",
    "            height, width = image_size[0], image_size[1]\n",
    "            # store width of each image in a list\n",
    "            width_list.append(width)\n",
    "            # store image in a list\n",
    "            image_list.append(image)\n",
    "    return width_list, image_list"
   ]
  },
  {
   "cell_type": "code",
   "execution_count": 5,
   "metadata": {},
   "outputs": [],
   "source": [
    "def forward_pass(model, image_list, width_list, space_bn_words):\n",
    "    for i in range(len(image_list)):\n",
    "        image = image_list[i]\n",
    "        width = width_list[i]\n",
    "        # convert image to tensor\n",
    "        image = transforms.ToTensor()(image)\n",
    "        image = image.unsqueeze(0)\n",
    "        # run forward pass\n",
    "        output = model(image)\n",
    "        # convert output to numpy array\n",
    "        output = output.detach().numpy()\n",
    "        np.save('output_stroke_'+str(i)+'.npy', output)"
   ]
  },
  {
   "cell_type": "code",
   "execution_count": 6,
   "metadata": {},
   "outputs": [],
   "source": [
    "import numpy as np\n",
    "import matplotlib.pyplot as plt\n",
    "\n",
    "def translate_strokes(strokes, page_width, width_list, space_bn_words):\n",
    "    lines = []\n",
    "    line = []\n",
    "\n",
    "    current_width = 0\n",
    "    max_x_stroke = 0\n",
    "    line_height = 57  # initial line height\n",
    "    for stroke, width in zip(strokes, width_list):\n",
    "        if current_width + width + space_bn_words > page_width:\n",
    "            # move to next line\n",
    "            lines.append(np.concatenate(line, axis=0))\n",
    "            max_x_stroke = 0  # reset max_x_stroke to 0\n",
    "            current_width = 0  # reset current_width to 0\n",
    "            line_height += 60  # increase line height\n",
    "            line = []\n",
    "\n",
    "        # add to current line\n",
    "        # translate it to max_x_stroke of previous word + space_bn_words\n",
    "        stroke[:, 0] += max_x_stroke + space_bn_words\n",
    "        # translate y coordinate to line_height\n",
    "        stroke[:, 1] += line_height - np.max(stroke[:, 1])\n",
    "        line.append(stroke)\n",
    "        current_width += width + space_bn_words\n",
    "        max_x_stroke += width + space_bn_words\n",
    "\n",
    "    # add the last line\n",
    "    if line:\n",
    "        lines.append(np.concatenate(line, axis=0))\n",
    "    lines = np.concatenate(lines, axis=0)\n",
    "    # animate_word(lines, speed=0.2, save_path='animation1.gif')\n",
    "\n",
    "    return lines"
   ]
  },
  {
   "cell_type": "code",
   "execution_count": 7,
   "metadata": {},
   "outputs": [],
   "source": [
    "def plot_stroke(stroke_array):\n",
    "    for i in range(len(stroke_array)):\n",
    "        strokes = stroke_array[i]\n",
    "        for stroke in strokes:\n",
    "            plt.plot(stroke[:, 0], stroke[:, 1])\n",
    "        plt.show()"
   ]
  },
  {
   "cell_type": "code",
   "execution_count": 8,
   "metadata": {},
   "outputs": [
    {
     "name": "stdout",
     "output_type": "stream",
     "text": [
      "(145, 5)\n",
      "(341, 5)\n",
      "(83, 5)\n",
      "(164, 5)\n",
      "(222, 5)\n",
      "(111, 5)\n",
      "(140, 5)\n",
      "(58, 5)\n",
      "(434, 5)\n"
     ]
    }
   ],
   "source": [
    "output_folder_path = '../../DataSet/IAM-Online/test_str_model/Images/'\n",
    "width_list, image_list = create_list(output_folder_path)\n",
    "stroke_path = '../../DataSet/IAM-Online/test_str_model/Strokes/'\n",
    "stroke_array = []\n",
    "for strokes in os.listdir(stroke_path):\n",
    "    if strokes.endswith(\".npy\"):\n",
    "        strokes = np.load(stroke_path + strokes)\n",
    "        stroke_array.append(strokes)\n",
    "        print(strokes.shape)\n",
    "        \n",
    "# animate_word(np.concatenate(stroke_array[0:3], axis=0), save_path='animation3.gif')\n",
    "lines = translate_strokes(stroke_array, 600, width_list, space_bn_words=30)\n",
    "animate_word(lines, speed=0.2, save_path='animation4.gif')"
   ]
  },
  {
   "cell_type": "code",
   "execution_count": null,
   "metadata": {},
   "outputs": [],
   "source": [
    "\n"
   ]
  },
  {
   "cell_type": "code",
   "execution_count": 9,
   "metadata": {},
   "outputs": [
    {
     "ename": "IndexError",
     "evalue": "invalid index to scalar variable.",
     "output_type": "error",
     "traceback": [
      "\u001b[0;31m---------------------------------------------------------------------------\u001b[0m",
      "\u001b[0;31mIndexError\u001b[0m                                Traceback (most recent call last)",
      "\u001b[1;32m/home/taha_adeel/Desktop/Sem-7/Deep Learning/Project/Code/STR_model/demo_str.ipynb Cell 10\u001b[0m line \u001b[0;36m3\n\u001b[1;32m     <a href='vscode-notebook-cell:/home/taha_adeel/Desktop/Sem-7/Deep%20Learning/Project/Code/STR_model/demo_str.ipynb#X12sZmlsZQ%3D%3D?line=32'>33</a>\u001b[0m         ani\u001b[39m.\u001b[39msave(save_path, writer\u001b[39m=\u001b[39m\u001b[39m'\u001b[39m\u001b[39mimagemagick\u001b[39m\u001b[39m'\u001b[39m)\n\u001b[1;32m     <a href='vscode-notebook-cell:/home/taha_adeel/Desktop/Sem-7/Deep%20Learning/Project/Code/STR_model/demo_str.ipynb#X12sZmlsZQ%3D%3D?line=33'>34</a>\u001b[0m     plt\u001b[39m.\u001b[39mshow()\n\u001b[0;32m---> <a href='vscode-notebook-cell:/home/taha_adeel/Desktop/Sem-7/Deep%20Learning/Project/Code/STR_model/demo_str.ipynb#X12sZmlsZQ%3D%3D?line=35'>36</a>\u001b[0m animate_lines(lines, color\u001b[39m=\u001b[39;49m\u001b[39m'\u001b[39;49m\u001b[39mblack\u001b[39;49m\u001b[39m'\u001b[39;49m, title\u001b[39m=\u001b[39;49m\u001b[39m'\u001b[39;49m\u001b[39m'\u001b[39;49m, speed\u001b[39m=\u001b[39;49m\u001b[39m0.5\u001b[39;49m, save_path\u001b[39m=\u001b[39;49m\u001b[39m'\u001b[39;49m\u001b[39manimation.gif\u001b[39;49m\u001b[39m'\u001b[39;49m)\n",
      "\u001b[1;32m/home/taha_adeel/Desktop/Sem-7/Deep Learning/Project/Code/STR_model/demo_str.ipynb Cell 10\u001b[0m line \u001b[0;36m9\n\u001b[1;32m      <a href='vscode-notebook-cell:/home/taha_adeel/Desktop/Sem-7/Deep%20Learning/Project/Code/STR_model/demo_str.ipynb#X12sZmlsZQ%3D%3D?line=6'>7</a>\u001b[0m padding \u001b[39m=\u001b[39m \u001b[39m10\u001b[39m\n\u001b[1;32m      <a href='vscode-notebook-cell:/home/taha_adeel/Desktop/Sem-7/Deep%20Learning/Project/Code/STR_model/demo_str.ipynb#X12sZmlsZQ%3D%3D?line=7'>8</a>\u001b[0m all_strokes \u001b[39m=\u001b[39m [stroke \u001b[39mfor\u001b[39;00m line \u001b[39min\u001b[39;00m lines \u001b[39mfor\u001b[39;00m stroke \u001b[39min\u001b[39;00m line]\n\u001b[0;32m----> <a href='vscode-notebook-cell:/home/taha_adeel/Desktop/Sem-7/Deep%20Learning/Project/Code/STR_model/demo_str.ipynb#X12sZmlsZQ%3D%3D?line=8'>9</a>\u001b[0m xlim \u001b[39m=\u001b[39m (\u001b[39mmin\u001b[39;49m(stroke[:, \u001b[39m0\u001b[39;49m]\u001b[39m.\u001b[39;49mmin() \u001b[39mfor\u001b[39;49;00m stroke \u001b[39min\u001b[39;49;00m all_strokes)\u001b[39m-\u001b[39mpadding, \u001b[39mmax\u001b[39m(stroke[:, \u001b[39m0\u001b[39m]\u001b[39m.\u001b[39mmax() \u001b[39mfor\u001b[39;00m stroke \u001b[39min\u001b[39;00m all_strokes)\u001b[39m+\u001b[39mpadding)\n\u001b[1;32m     <a href='vscode-notebook-cell:/home/taha_adeel/Desktop/Sem-7/Deep%20Learning/Project/Code/STR_model/demo_str.ipynb#X12sZmlsZQ%3D%3D?line=9'>10</a>\u001b[0m ylim \u001b[39m=\u001b[39m (\u001b[39mmin\u001b[39m(stroke[:, \u001b[39m1\u001b[39m]\u001b[39m.\u001b[39mmin() \u001b[39mfor\u001b[39;00m stroke \u001b[39min\u001b[39;00m all_strokes)\u001b[39m-\u001b[39mpadding\u001b[39m/\u001b[39m\u001b[39m/\u001b[39m\u001b[39m2\u001b[39m, \u001b[39mmax\u001b[39m(stroke[:, \u001b[39m1\u001b[39m]\u001b[39m.\u001b[39mmax() \u001b[39mfor\u001b[39;00m stroke \u001b[39min\u001b[39;00m all_strokes)\u001b[39m+\u001b[39mpadding\u001b[39m/\u001b[39m\u001b[39m/\u001b[39m\u001b[39m2\u001b[39m)\n\u001b[1;32m     <a href='vscode-notebook-cell:/home/taha_adeel/Desktop/Sem-7/Deep%20Learning/Project/Code/STR_model/demo_str.ipynb#X12sZmlsZQ%3D%3D?line=10'>11</a>\u001b[0m ax\u001b[39m.\u001b[39mset_xlim(xlim)\n",
      "\u001b[1;32m/home/taha_adeel/Desktop/Sem-7/Deep Learning/Project/Code/STR_model/demo_str.ipynb Cell 10\u001b[0m line \u001b[0;36m9\n\u001b[1;32m      <a href='vscode-notebook-cell:/home/taha_adeel/Desktop/Sem-7/Deep%20Learning/Project/Code/STR_model/demo_str.ipynb#X12sZmlsZQ%3D%3D?line=6'>7</a>\u001b[0m padding \u001b[39m=\u001b[39m \u001b[39m10\u001b[39m\n\u001b[1;32m      <a href='vscode-notebook-cell:/home/taha_adeel/Desktop/Sem-7/Deep%20Learning/Project/Code/STR_model/demo_str.ipynb#X12sZmlsZQ%3D%3D?line=7'>8</a>\u001b[0m all_strokes \u001b[39m=\u001b[39m [stroke \u001b[39mfor\u001b[39;00m line \u001b[39min\u001b[39;00m lines \u001b[39mfor\u001b[39;00m stroke \u001b[39min\u001b[39;00m line]\n\u001b[0;32m----> <a href='vscode-notebook-cell:/home/taha_adeel/Desktop/Sem-7/Deep%20Learning/Project/Code/STR_model/demo_str.ipynb#X12sZmlsZQ%3D%3D?line=8'>9</a>\u001b[0m xlim \u001b[39m=\u001b[39m (\u001b[39mmin\u001b[39m(stroke[:, \u001b[39m0\u001b[39;49m]\u001b[39m.\u001b[39mmin() \u001b[39mfor\u001b[39;00m stroke \u001b[39min\u001b[39;00m all_strokes)\u001b[39m-\u001b[39mpadding, \u001b[39mmax\u001b[39m(stroke[:, \u001b[39m0\u001b[39m]\u001b[39m.\u001b[39mmax() \u001b[39mfor\u001b[39;00m stroke \u001b[39min\u001b[39;00m all_strokes)\u001b[39m+\u001b[39mpadding)\n\u001b[1;32m     <a href='vscode-notebook-cell:/home/taha_adeel/Desktop/Sem-7/Deep%20Learning/Project/Code/STR_model/demo_str.ipynb#X12sZmlsZQ%3D%3D?line=9'>10</a>\u001b[0m ylim \u001b[39m=\u001b[39m (\u001b[39mmin\u001b[39m(stroke[:, \u001b[39m1\u001b[39m]\u001b[39m.\u001b[39mmin() \u001b[39mfor\u001b[39;00m stroke \u001b[39min\u001b[39;00m all_strokes)\u001b[39m-\u001b[39mpadding\u001b[39m/\u001b[39m\u001b[39m/\u001b[39m\u001b[39m2\u001b[39m, \u001b[39mmax\u001b[39m(stroke[:, \u001b[39m1\u001b[39m]\u001b[39m.\u001b[39mmax() \u001b[39mfor\u001b[39;00m stroke \u001b[39min\u001b[39;00m all_strokes)\u001b[39m+\u001b[39mpadding\u001b[39m/\u001b[39m\u001b[39m/\u001b[39m\u001b[39m2\u001b[39m)\n\u001b[1;32m     <a href='vscode-notebook-cell:/home/taha_adeel/Desktop/Sem-7/Deep%20Learning/Project/Code/STR_model/demo_str.ipynb#X12sZmlsZQ%3D%3D?line=10'>11</a>\u001b[0m ax\u001b[39m.\u001b[39mset_xlim(xlim)\n",
      "\u001b[0;31mIndexError\u001b[0m: invalid index to scalar variable."
     ]
    },
    {
     "data": {
      "image/png": "[encoded data removed]",
      "text/plain": [
       "<Figure size 640x480 with 1 Axes>"
      ]
     },
     "metadata": {},
     "output_type": "display_data"
    }
   ],
   "source": [
    "import matplotlib.pyplot as plt\n",
    "import matplotlib.animation as animation\n",
    "\n",
    "def animate_lines(lines, color='black', title='', speed=0.5, save_path=None):\n",
    "    ''' Animate the strokes of a word.'''\n",
    "    fig, ax = plt.subplots()    \n",
    "    padding = 10\n",
    "    all_strokes = [stroke for line in lines for stroke in line]\n",
    "    xlim = (min(stroke[:, 0].min() for stroke in all_strokes)-padding, max(stroke[:, 0].max() for stroke in all_strokes)+padding)\n",
    "    ylim = (min(stroke[:, 1].min() for stroke in all_strokes)-padding//2, max(stroke[:, 1].max() for stroke in all_strokes)+padding//2)\n",
    "    ax.set_xlim(xlim)\n",
    "    ax.set_ylim(ylim)\n",
    "    ax.invert_yaxis()\n",
    "    ax.axis('off')\n",
    "    ax.set_aspect('equal')\n",
    "    \n",
    "    lines = [ax.plot([], [], color=color)[0] for _ in all_strokes]  # Create a line for each stroke\n",
    "    pen, = ax.plot([], [], color='red', marker='o')  # Create a marker for the pen\n",
    "    \n",
    "    def animate(i):\n",
    "        stroke_num = 0\n",
    "        total_length = 0\n",
    "        for stroke in all_strokes:\n",
    "            if total_length <= i < total_length + len(stroke):\n",
    "                lines[stroke_num].set_data(stroke[:i-total_length+1, 0], stroke[:i-total_length+1, 1])  # Update the line data for the current stroke\n",
    "                pen.set_data(stroke[i-total_length, 0], stroke[i-total_length, 1])  # Move the pen to the current coordinate\n",
    "            total_length += len(stroke)\n",
    "            stroke_num += 1\n",
    "        return lines + [pen]\n",
    "    \n",
    "    ani = animation.FuncAnimation(fig, animate, frames=sum(len(stroke) for stroke in all_strokes), interval=100/speed, blit=True)\n",
    "    if save_path is not None:\n",
    "        ani.save(save_path, writer='imagemagick')\n",
    "    plt.show()\n",
    "\n",
    "animate_lines(lines, color='black', title='', speed=0.5, save_path='animation.gif')"
   ]
  }
 ],
 "metadata": {
  "kernelspec": {
   "display_name": "Python 3",
   "language": "python",
   "name": "python3"
  },
  "language_info": {
   "codemirror_mode": {
    "name": "ipython",
    "version": 3
   },
   "file_extension": ".py",
   "mimetype": "text/x-python",
   "name": "python",
   "nbconvert_exporter": "python",
   "pygments_lexer": "ipython3",
   "version": "3.11.6"
  }
 },
 "nbformat": 4,
 "nbformat_minor": 2
}
