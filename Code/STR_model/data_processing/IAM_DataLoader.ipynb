{
  "cells": [
    {
      "cell_type": "code",
      "execution_count": 1,
      "id": "373ff362",
      "metadata": {
        "id": "373ff362"
      },
      "outputs": [],
      "source": [
        "import os\n",
        "import numpy as np\n",
        "from PIL import Image\n",
        "import torch\n",
        "from torch.utils.data import Dataset, DataLoader\n",
        "from torchvision import transforms"
      ]
    },
    {
      "cell_type": "code",
      "execution_count": 3,
      "id": "98a4f855",
      "metadata": {
        "id": "98a4f855"
      },
      "outputs": [],
      "source": [
        "class HandwritingDataset(Dataset):\n",
        "    def __init__(self, root_dir, transform=None):\n",
        "        self.root_dir = root_dir\n",
        "        self.image_dir = os.path.join(root_dir, 'Images')\n",
        "        self.stroke_dir = os.path.join(root_dir, 'Strokes')\n",
        "        self.transform = transform\n",
        "        self.image_files = [f for f in os.listdir(self.image_dir) if f.endswith('.png')]\n",
        "\n",
        "    def __len__(self):\n",
        "        return len(self.image_files)\n",
        "\n",
        "    def __getitem__(self, idx):\n",
        "        img_name = os.path.join(self.image_dir, self.image_files[idx])\n",
        "        stroke_name = os.path.join(self.stroke_dir, self.image_files[idx].replace('.png', '.npy'))\n",
        "\n",
        "        image = Image.open(img_name).convert('L')\n",
        "        stroke_data = np.load(stroke_name)\n",
        "\n",
        "        if self.transform:\n",
        "            image = self.transform(image)\n",
        "\n",
        "        return image, stroke_data\n",
        "\n",
        "# Define the transformation for your images (resizing, normalization, etc.)\n",
        "transform = transforms.Compose([\n",
        "    transforms.ToTensor(),\n",
        "])"
      ]
    },
    {
      "cell_type": "code",
      "execution_count": 4,
      "id": "63103da1",
      "metadata": {
        "id": "63103da1",
        "outputId": "dc90633f-67b2-4a15-9725-158655b420c8"
      },
      "outputs": [
        {
          "name": "stdout",
          "output_type": "stream",
          "text": [
            "1096 274\n"
          ]
        }
      ],
      "source": [
        "# Create the dataset\n",
        "data_path = '../../../DataSet/IAM-Online/Resized_Dataset/Train/' # The path should point to the Train directory (the directly available subfolders should be Images/ and Strokes/)\n",
        "dataset = HandwritingDataset(root_dir=data_path, transform=transform)\n",
        "\n",
        "# Calculate the split indices for train and test\n",
        "train_size = int(0.8 * len(dataset))\n",
        "test_size = len(dataset) - train_size\n",
        "train_dataset, test_dataset = torch.utils.data.random_split(dataset, [train_size, test_size])\n",
        "\n",
        "# Create dataloaders\n",
        "train_loader = DataLoader(dataset=train_dataset, batch_size=32, shuffle=True)\n",
        "test_loader = DataLoader(dataset=test_dataset, batch_size=32, shuffle=False)\n",
        "\n",
        "# Check the number of batches in the train and test loaders\n",
        "print(len(train_loader), len(test_loader))"
      ]
    },
    {
      "cell_type": "code",
      "execution_count": 5,
      "id": "364d4e21",
      "metadata": {
        "id": "364d4e21",
        "outputId": "c094f6c5-e1cc-405b-db14-072848244c6d"
      },
      "outputs": [
        {
          "name": "stdout",
          "output_type": "stream",
          "text": [
            "<torch.utils.data.dataloader.DataLoader object at 0x000002476A7CDA30>\n"
          ]
        }
      ],
      "source": [
        "print(train_loader)"
      ]
    },
    {
      "cell_type": "code",
      "execution_count": 6,
      "id": "b7370d0c",
      "metadata": {
        "id": "b7370d0c",
        "outputId": "3791efb0-97f5-4cda-de64-7540a76a3d85"
      },
      "outputs": [
        {
          "name": "stdout",
          "output_type": "stream",
          "text": [
            "<torch.utils.data.dataloader.DataLoader object at 0x000002476A7CD7F0>\n"
          ]
        }
      ],
      "source": [
        "print(test_loader)"
      ]
    },
    {
      "cell_type": "code",
      "execution_count": null,
      "id": "1c551892",
      "metadata": {
        "id": "1c551892"
      },
      "outputs": [],
      "source": []
    }
  ],
  "metadata": {
    "colab": {
      "provenance": []
    },
    "kernelspec": {
      "display_name": "Python 3 (ipykernel)",
      "language": "python",
      "name": "python3"
    },
    "language_info": {
      "codemirror_mode": {
        "name": "ipython",
        "version": 3
      },
      "file_extension": ".py",
      "mimetype": "text/x-python",
      "name": "python",
      "nbconvert_exporter": "python",
      "pygments_lexer": "ipython3",
      "version": "3.11.5"
    }
  },
  "nbformat": 4,
  "nbformat_minor": 5
}
