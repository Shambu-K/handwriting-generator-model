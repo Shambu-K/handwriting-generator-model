{
  "cells": [
    {
      "cell_type": "code",
      "execution_count": 1,
      "metadata": {},
      "outputs": [],
      "source": [
        "import numpy as np\n",
        "import matplotlib.pyplot as plt\n",
        "from PIL import Image\n",
        "from PIL import Image, ImageDraw\n",
        "import os\n",
        "import random \n"
      ]
    },
    {
      "cell_type": "code",
      "execution_count": 54,
      "metadata": {},
      "outputs": [
        {
          "name": "stdout",
          "output_type": "stream",
          "text": [
            "43840\n"
          ]
        }
      ],
      "source": [
        "dir_path = '../../../DataSet/IAM-Online/Resized_Dataset/Train/Images/'\n",
        "num_files = len([f for f in os.listdir(dir_path)if os.path.isfile(os.path.join(dir_path, f))])\n",
        "print(num_files)"
      ]
    },
    {
      "cell_type": "code",
      "execution_count": 80,
      "metadata": {},
      "outputs": [
        {
          "name": "stdout",
          "output_type": "stream",
          "text": [
            "Image:  15442\n"
          ]
        },
        {
          "data": {
            "image/png": "[encoded data removed]",
            "text/plain": [
              "<Figure size 500x500 with 2 Axes>"
            ]
          },
          "metadata": {},
          "output_type": "display_data"
        }
      ],
      "source": [
        "# function to get random images from the dataset\n",
        "img_num = random.randint(1, num_files + 1)\n",
        "img_path = dir_path + f'image_{img_num}.png'\n",
        "stroke_path = '../../../DataSet/IAM-Online/Resized_Dataset/Train/Strokes/' + f'stroke_{img_num}.npy'\n",
        "print('Image: ', img_num)\n",
        "\n",
        "# load image\n",
        "image = Image.open(img_path)\n",
        "image_size = image.size\n",
        "\n",
        "# load stroke\n",
        "stroke = np.load(stroke_path)\n",
        "\n",
        "# plot the stroke coordinates\n",
        "stroke_img = Image.new('L', image_size, 'white')\n",
        "draw = ImageDraw.Draw(stroke_img)\n",
        "for i in range(len(stroke)):\n",
        "    x, y = int(stroke[i][0]), int(stroke[i][1])\n",
        "    radius = 1  # Adjust as needed\n",
        "    draw.ellipse((x-radius, y-radius, x+radius, y+radius), fill=15)  # Darken and thicken the points\n",
        "\n",
        "plt.figure(figsize=(5, 5))\n",
        "plt.subplot(1, 2, 1)\n",
        "plt.imshow(image, cmap='gray')\n",
        "plt.subplot(1, 2, 2)\n",
        "plt.imshow(stroke_img, cmap='gray')\n",
        "plt.show()"
      ]
    }
  ],
  "metadata": {
    "colab": {
      "provenance": []
    },
    "kernelspec": {
      "display_name": "Python 3",
      "language": "python",
      "name": "python3"
    },
    "language_info": {
      "codemirror_mode": {
        "name": "ipython",
        "version": 3
      },
      "file_extension": ".py",
      "mimetype": "text/x-python",
      "name": "python",
      "nbconvert_exporter": "python",
      "pygments_lexer": "ipython3",
      "version": "3.9.5"
    }
  },
  "nbformat": 4,
  "nbformat_minor": 0
}
