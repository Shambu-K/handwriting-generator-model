{
 "cells": [
  {
   "cell_type": "code",
   "execution_count": 1,
   "metadata": {},
   "outputs": [
    {
     "name": "stdout",
     "output_type": "stream",
     "text": [
      "/home/taha_adeel/Desktop/Sem-7/Deep Learning/Project/Handwriting-Transformers\n"
     ]
    }
   ],
   "source": [
    "# Run below code to set up the environment\n",
    "import os\n",
    "repo_path = 'Handwriting-Transformers'\n",
    "if not os.path.exists(repo_path) and os.getcwd().split('/')[-1] != repo_path:\n",
    "    !git clone https://github.com/ankanbhunia/Handwriting-Transformers\n",
    "if os.getcwd().split('/')[-1] != repo_path:\n",
    "    %cd Handwriting-Transformers\n",
    "if not os.path.exists('files'): # Get the model and data files\n",
    "    %pip install --upgrade --no-cache-dir gdown\n",
    "    !gdown --id 16g9zgysQnWk7-353_tMig92KsZsrcM6k\n",
    "    !unzip files.zip && rm files.zip"
   ]
  },
  {
   "cell_type": "code",
   "execution_count": 2,
   "metadata": {},
   "outputs": [],
   "source": [
    "# Import the libraries\n",
    "import os\n",
    "from data.dataset import TextDataset, TextDatasetval\n",
    "import torch\n",
    "import cv2\n",
    "import numpy as np\n",
    "from models.model import TRGAN\n",
    "from params import *\n",
    "from torch import nn\n",
    "from data.dataset import get_transform\n",
    "import pickle\n",
    "from PIL import Image\n",
    "import tqdm\n",
    "import shutil"
   ]
  },
  {
   "cell_type": "code",
   "execution_count": 3,
   "metadata": {},
   "outputs": [],
   "source": [
    "data_path = 'files/IAM-32.pickle'\n",
    "model_path = 'files/iam_model.pth'\n",
    "num_examples = 15"
   ]
  },
  {
   "cell_type": "code",
   "execution_count": 4,
   "metadata": {},
   "outputs": [
    {
     "name": "stdout",
     "output_type": "stream",
     "text": [
      "(1) Loading dataset files...\n",
      "(2) Loading model...\n"
     ]
    },
    {
     "name": "stderr",
     "output_type": "stream",
     "text": [
      "/home/taha_adeel/anaconda3/envs/tensorflow/lib/python3.11/site-packages/torchvision/models/_utils.py:208: UserWarning: The parameter 'pretrained' is deprecated since 0.13 and may be removed in the future, please use 'weights' instead.\n",
      "  warnings.warn(\n",
      "/home/taha_adeel/anaconda3/envs/tensorflow/lib/python3.11/site-packages/torchvision/models/_utils.py:223: UserWarning: Arguments other than a weight enum or `None` for 'weights' are deprecated since 0.13 and may be removed in the future. The current behavior is equivalent to passing `weights=ResNet18_Weights.IMAGENET1K_V1`. You can also use `weights=ResNet18_Weights.DEFAULT` to get the most up-to-date weights.\n",
      "  warnings.warn(msg)\n"
     ]
    },
    {
     "name": "stdout",
     "output_type": "stream",
     "text": [
      "initialize network with N02\n",
      "initialize network with N02\n",
      "initialize network with N02\n"
     ]
    },
    {
     "name": "stderr",
     "output_type": "stream",
     "text": [
      "/home/taha_adeel/anaconda3/envs/tensorflow/lib/python3.11/site-packages/torchvision/models/_utils.py:223: UserWarning: Arguments other than a weight enum or `None` for 'weights' are deprecated since 0.13 and may be removed in the future. The current behavior is equivalent to passing `weights=None`.\n",
      "  warnings.warn(msg)\n",
      "/home/taha_adeel/anaconda3/envs/tensorflow/lib/python3.11/site-packages/torchvision/models/inception.py:43: FutureWarning: The default weight initialization of inception_v3 will be changed in future releases of torchvision. If you wish to keep the old behavior (which leads to long initialization times due to scipy/scipy#11299), please set init_weights=True.\n",
      "  warnings.warn(\n"
     ]
    },
    {
     "name": "stdout",
     "output_type": "stream",
     "text": [
      "files/iam_model.pth : Model loaded Successfully\n"
     ]
    }
   ],
   "source": [
    "# Load the model and the dataset\n",
    "print ('(1) Loading dataset files...')\n",
    "TextDatasetObjval = TextDatasetval(base_path = data_path, num_examples = num_examples)\n",
    "datasetval = torch.utils.data.DataLoader(\n",
    "            TextDatasetObjval,\n",
    "            batch_size=8,\n",
    "            shuffle=True,\n",
    "            num_workers=0,\n",
    "            pin_memory=True, drop_last=True,\n",
    "            collate_fn=TextDatasetObjval.collate_fn)\n",
    "\n",
    "print ('(2) Loading model...')\n",
    "model = TRGAN()\n",
    "device = torch.device('cuda:0' if torch.cuda.is_available() else 'cpu')\n",
    "# device = torch.device('cuda:0')\n",
    "model.netG.load_state_dict(torch.load(model_path, map_location=device))\n",
    "print (model_path+' : Model loaded Successfully')"
   ]
  },
  {
   "cell_type": "code",
   "execution_count": 5,
   "metadata": {},
   "outputs": [],
   "source": [
    "# Save the images for fid calculations\n",
    "\n",
    "# real_path, fake_path = model.save_images_for_fid_calculation(datasetval, epoch=None, mode='test')\n",
    "\n",
    "real_data = 'train'\n",
    "real_path = '../demo_output/real_fid'\n",
    "fake_path = '../demo_output/fake_fid'\n",
    "if os.path.isdir(real_path): shutil.rmtree(real_path)\n",
    "if os.path.isdir(fake_path): shutil.rmtree(fake_path)\n",
    "\n",
    "os.makedirs(real_path)\n",
    "os.makedirs(fake_path)\n",
    "\n",
    "# Generate the fake images\n",
    "for step,data in enumerate(datasetval): \n",
    "    ST = data['simg'].to(device)\n",
    "    fakes = model.netG.Eval(ST, model.eval_text_encode) \n",
    "    fake_images = torch.cat(fakes, 1).detach().cpu().numpy()\n",
    "\n",
    "    for i in range(fake_images.shape[0]):\n",
    "        for j in range(fake_images.shape[1]):\n",
    "            cv2.imwrite(os.path.join(fake_path, str(step*batch_size + i)+'_'+str(j)+'.png'), 255*(fake_images[i,j]))\n",
    "\n",
    "# Load real data\n",
    "if real_data == 'train':\n",
    "    TextDatasetObj = TextDataset(num_examples = model.eval_text_encode.shape[1])\n",
    "    dataset_real = torch.utils.data.DataLoader(\n",
    "                TextDatasetObj,\n",
    "                batch_size=batch_size,\n",
    "                shuffle=True,\n",
    "                num_workers=0,\n",
    "                pin_memory=True, drop_last=True,\n",
    "                collate_fn=TextDatasetObj.collate_fn)\n",
    "elif real_data == 'test':\n",
    "    TextDatasetObjval = TextDatasetval(num_examples = model.eval_text_encode.shape[1])\n",
    "    dataset_real = torch.utils.data.DataLoader(\n",
    "                TextDatasetObjval,\n",
    "                batch_size=batch_size,\n",
    "                shuffle=True,\n",
    "                num_workers=0,\n",
    "                pin_memory=True, drop_last=True,\n",
    "                collate_fn=TextDatasetObjval.collate_fn) \n",
    "    \n",
    "# Save the real images\n",
    "for step,data in enumerate(dataset_real): \n",
    "    real_images = data['simg'].numpy()\n",
    "    for i in range(real_images.shape[0]):\n",
    "        for j in range(real_images.shape[1]):\n",
    "            cv2.imwrite(os.path.join(real_path, str(step*batch_size + i)+'_'+str(j)+'.png'), 255*(real_images[i,j])) \n"
   ]
  },
  {
   "cell_type": "code",
   "execution_count": 6,
   "metadata": {},
   "outputs": [
    {
     "name": "stderr",
     "output_type": "stream",
     "text": [
      "100%|██████████| 21504/21504 [04:37<00:00, 77.36it/s]\n",
      "100%|██████████| 10240/10240 [02:14<00:00, 76.25it/s]\n"
     ]
    },
    {
     "name": "stdout",
     "output_type": "stream",
     "text": [
      "FID Score : 16.660481699993966\n"
     ]
    }
   ],
   "source": [
    "# Compute the FID score using the pytorch-fid library\n",
    "import pytorch_fid.fid_score as fid\n",
    "\n",
    "fid_score = fid.calculate_fid_given_paths([real_path, fake_path], device='cuda', dims=2048, batch_size=1, num_workers=8)\n",
    "print ('FID Score : ' + str(fid_score))"
   ]
  }
 ],
 "metadata": {
  "kernelspec": {
   "display_name": "tensorflow",
   "language": "python",
   "name": "python3"
  },
  "language_info": {
   "codemirror_mode": {
    "name": "ipython",
    "version": 3
   },
   "file_extension": ".py",
   "mimetype": "text/x-python",
   "name": "python",
   "nbconvert_exporter": "python",
   "pygments_lexer": "ipython3",
   "version": "3.11.5"
  }
 },
 "nbformat": 4,
 "nbformat_minor": 2
}
